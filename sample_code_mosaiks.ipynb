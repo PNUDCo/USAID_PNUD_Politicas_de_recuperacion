{
  "cells": [
    {
      "cell_type": "markdown",
      "metadata": {
        "id": "view-in-github",
        "colab_type": "text"
      },
      "source": [
        "<a href=\"https://colab.research.google.com/github/PNUDCo/USAID_PNUD_Politicas_de_recuperacion/blob/main/sample_code_mosaiks.ipynb\" target=\"_parent\"><img src=\"https://colab.research.google.com/assets/colab-badge.svg\" alt=\"Open In Colab\"/></a>"
      ]
    },
    {
      "cell_type": "code",
      "execution_count": 18,
      "id": "359644de",
      "metadata": {
        "id": "359644de"
      },
      "outputs": [],
      "source": [
        "#import libraries\n",
        "import os\n",
        "import numpy as np\n",
        "import pandas as pd\n",
        "import timeit\n",
        "import time\n",
        "import pandas as pd\n",
        "\n",
        "from sklearn.model_selection import train_test_split, RepeatedKFold, GroupKFold\n",
        "from sklearn.linear_model import Ridge, RidgeCV, LassoCV, Lasso\n",
        "from sklearn.metrics import mean_squared_error, mean_absolute_error, r2_score\n",
        "\n",
        "import geopandas as gpd\n",
        "import seaborn as sns\n",
        "import matplotlib.cm\n",
        "import matplotlib.pyplot as plt\n",
        "%matplotlib inline"
      ]
    },
    {
      "cell_type": "code",
      "execution_count": null,
      "id": "2d062a8e",
      "metadata": {
        "id": "2d062a8e"
      },
      "outputs": [],
      "source": [
        "# import data_mosaiks\n",
        "mosaiks=\n",
        "\n",
        "#import data variable of interest\n",
        "mpi=\n",
        "mpi_merge = pd.merge(df, mpi, on=['geoID'], how=\"inner\")"
      ]
    },
    {
      "cell_type": "code",
      "execution_count": 21,
      "id": "137b9dbe",
      "metadata": {
        "colab": {
          "base_uri": "https://localhost:8080/",
          "height": 342
        },
        "id": "137b9dbe",
        "outputId": "b9dd130e-1c31-49ca-b5ad-3401b6c40860"
      },
      "outputs": [
        {
          "output_type": "stream",
          "name": "stderr",
          "text": [
            "<ipython-input-21-97e0e3e20785>:2: DtypeWarning: Columns (2004) have mixed types. Specify dtype option on import or set low_memory=False.\n",
            "  mosaiks_ipm_unidos = pd.read_csv('mosaiks_ipm_unidos.csv')\n"
          ]
        },
        {
          "output_type": "execute_result",
          "data": {
            "text/plain": [
              "     lon    lat       X_0       X_1       X_2       X_3       X_4       X_5  \\\n",
              "0 -81.75  12.55  0.240915  0.526891  0.209668  0.110808  0.346101  0.728347   \n",
              "1 -81.65  12.55  0.443962  0.832797  0.344719  0.213900  0.622280  1.086848   \n",
              "2 -81.35  13.35  0.108211  0.296147  0.106740  0.051276  0.150766  0.409156   \n",
              "3 -79.05   1.65  0.107933  0.271246  0.106344  0.030706  0.136435  0.245329   \n",
              "4 -78.95   1.55  0.053657  0.132578  0.060490  0.012415  0.063460  0.169840   \n",
              "\n",
              "        X_6       X_7  ...  CATEGORIA                 LABEL  ipm  \\\n",
              "0  0.235142  0.783601  ...        0.0                   NaN  0.0   \n",
              "1  0.457001  1.449389  ...        1.0  Vulnerabilidad media  0.0   \n",
              "2  0.184465  0.667657  ...        0.0                   NaN  0.0   \n",
              "3  0.132857  0.687191  ...        0.0                   NaN  0.0   \n",
              "4  0.080832  0.385185  ...        0.0                   NaN  0.0   \n",
              "\n",
              "                  embarazo_a  n  distance  feature_x  feature_y  nearest_x  \\\n",
              "0        Vulnerabilidad baja  1  0.023557     -81.75      12.55 -81.729088   \n",
              "1        Vulnerabilidad baja  1  0.048078     -81.65      12.55 -81.687476   \n",
              "2                        NaN  1  0.005935     -81.35      13.35 -81.355734   \n",
              "3                        NaN  1  0.046385     -79.05       1.65 -79.005618   \n",
              "4  Vulnerabilidad media-alta  1  0.040524     -78.95       1.55 -78.952092   \n",
              "\n",
              "   nearest_y  \n",
              "0  12.539154  \n",
              "1  12.580118  \n",
              "2  13.351532  \n",
              "3   1.636518  \n",
              "4   1.590470  \n",
              "\n",
              "[5 rows x 2013 columns]"
            ],
            "text/html": [
              "\n",
              "  <div id=\"df-d162bee4-d01d-449d-be7c-25ec9be360df\" class=\"colab-df-container\">\n",
              "    <div>\n",
              "<style scoped>\n",
              "    .dataframe tbody tr th:only-of-type {\n",
              "        vertical-align: middle;\n",
              "    }\n",
              "\n",
              "    .dataframe tbody tr th {\n",
              "        vertical-align: top;\n",
              "    }\n",
              "\n",
              "    .dataframe thead th {\n",
              "        text-align: right;\n",
              "    }\n",
              "</style>\n",
              "<table border=\"1\" class=\"dataframe\">\n",
              "  <thead>\n",
              "    <tr style=\"text-align: right;\">\n",
              "      <th></th>\n",
              "      <th>lon</th>\n",
              "      <th>lat</th>\n",
              "      <th>X_0</th>\n",
              "      <th>X_1</th>\n",
              "      <th>X_2</th>\n",
              "      <th>X_3</th>\n",
              "      <th>X_4</th>\n",
              "      <th>X_5</th>\n",
              "      <th>X_6</th>\n",
              "      <th>X_7</th>\n",
              "      <th>...</th>\n",
              "      <th>CATEGORIA</th>\n",
              "      <th>LABEL</th>\n",
              "      <th>ipm</th>\n",
              "      <th>embarazo_a</th>\n",
              "      <th>n</th>\n",
              "      <th>distance</th>\n",
              "      <th>feature_x</th>\n",
              "      <th>feature_y</th>\n",
              "      <th>nearest_x</th>\n",
              "      <th>nearest_y</th>\n",
              "    </tr>\n",
              "  </thead>\n",
              "  <tbody>\n",
              "    <tr>\n",
              "      <th>0</th>\n",
              "      <td>-81.75</td>\n",
              "      <td>12.55</td>\n",
              "      <td>0.240915</td>\n",
              "      <td>0.526891</td>\n",
              "      <td>0.209668</td>\n",
              "      <td>0.110808</td>\n",
              "      <td>0.346101</td>\n",
              "      <td>0.728347</td>\n",
              "      <td>0.235142</td>\n",
              "      <td>0.783601</td>\n",
              "      <td>...</td>\n",
              "      <td>0.0</td>\n",
              "      <td>NaN</td>\n",
              "      <td>0.0</td>\n",
              "      <td>Vulnerabilidad baja</td>\n",
              "      <td>1</td>\n",
              "      <td>0.023557</td>\n",
              "      <td>-81.75</td>\n",
              "      <td>12.55</td>\n",
              "      <td>-81.729088</td>\n",
              "      <td>12.539154</td>\n",
              "    </tr>\n",
              "    <tr>\n",
              "      <th>1</th>\n",
              "      <td>-81.65</td>\n",
              "      <td>12.55</td>\n",
              "      <td>0.443962</td>\n",
              "      <td>0.832797</td>\n",
              "      <td>0.344719</td>\n",
              "      <td>0.213900</td>\n",
              "      <td>0.622280</td>\n",
              "      <td>1.086848</td>\n",
              "      <td>0.457001</td>\n",
              "      <td>1.449389</td>\n",
              "      <td>...</td>\n",
              "      <td>1.0</td>\n",
              "      <td>Vulnerabilidad media</td>\n",
              "      <td>0.0</td>\n",
              "      <td>Vulnerabilidad baja</td>\n",
              "      <td>1</td>\n",
              "      <td>0.048078</td>\n",
              "      <td>-81.65</td>\n",
              "      <td>12.55</td>\n",
              "      <td>-81.687476</td>\n",
              "      <td>12.580118</td>\n",
              "    </tr>\n",
              "    <tr>\n",
              "      <th>2</th>\n",
              "      <td>-81.35</td>\n",
              "      <td>13.35</td>\n",
              "      <td>0.108211</td>\n",
              "      <td>0.296147</td>\n",
              "      <td>0.106740</td>\n",
              "      <td>0.051276</td>\n",
              "      <td>0.150766</td>\n",
              "      <td>0.409156</td>\n",
              "      <td>0.184465</td>\n",
              "      <td>0.667657</td>\n",
              "      <td>...</td>\n",
              "      <td>0.0</td>\n",
              "      <td>NaN</td>\n",
              "      <td>0.0</td>\n",
              "      <td>NaN</td>\n",
              "      <td>1</td>\n",
              "      <td>0.005935</td>\n",
              "      <td>-81.35</td>\n",
              "      <td>13.35</td>\n",
              "      <td>-81.355734</td>\n",
              "      <td>13.351532</td>\n",
              "    </tr>\n",
              "    <tr>\n",
              "      <th>3</th>\n",
              "      <td>-79.05</td>\n",
              "      <td>1.65</td>\n",
              "      <td>0.107933</td>\n",
              "      <td>0.271246</td>\n",
              "      <td>0.106344</td>\n",
              "      <td>0.030706</td>\n",
              "      <td>0.136435</td>\n",
              "      <td>0.245329</td>\n",
              "      <td>0.132857</td>\n",
              "      <td>0.687191</td>\n",
              "      <td>...</td>\n",
              "      <td>0.0</td>\n",
              "      <td>NaN</td>\n",
              "      <td>0.0</td>\n",
              "      <td>NaN</td>\n",
              "      <td>1</td>\n",
              "      <td>0.046385</td>\n",
              "      <td>-79.05</td>\n",
              "      <td>1.65</td>\n",
              "      <td>-79.005618</td>\n",
              "      <td>1.636518</td>\n",
              "    </tr>\n",
              "    <tr>\n",
              "      <th>4</th>\n",
              "      <td>-78.95</td>\n",
              "      <td>1.55</td>\n",
              "      <td>0.053657</td>\n",
              "      <td>0.132578</td>\n",
              "      <td>0.060490</td>\n",
              "      <td>0.012415</td>\n",
              "      <td>0.063460</td>\n",
              "      <td>0.169840</td>\n",
              "      <td>0.080832</td>\n",
              "      <td>0.385185</td>\n",
              "      <td>...</td>\n",
              "      <td>0.0</td>\n",
              "      <td>NaN</td>\n",
              "      <td>0.0</td>\n",
              "      <td>Vulnerabilidad media-alta</td>\n",
              "      <td>1</td>\n",
              "      <td>0.040524</td>\n",
              "      <td>-78.95</td>\n",
              "      <td>1.55</td>\n",
              "      <td>-78.952092</td>\n",
              "      <td>1.590470</td>\n",
              "    </tr>\n",
              "  </tbody>\n",
              "</table>\n",
              "<p>5 rows × 2013 columns</p>\n",
              "</div>\n",
              "    <div class=\"colab-df-buttons\">\n",
              "\n",
              "  <div class=\"colab-df-container\">\n",
              "    <button class=\"colab-df-convert\" onclick=\"convertToInteractive('df-d162bee4-d01d-449d-be7c-25ec9be360df')\"\n",
              "            title=\"Convert this dataframe to an interactive table.\"\n",
              "            style=\"display:none;\">\n",
              "\n",
              "  <svg xmlns=\"http://www.w3.org/2000/svg\" height=\"24px\" viewBox=\"0 -960 960 960\">\n",
              "    <path d=\"M120-120v-720h720v720H120Zm60-500h600v-160H180v160Zm220 220h160v-160H400v160Zm0 220h160v-160H400v160ZM180-400h160v-160H180v160Zm440 0h160v-160H620v160ZM180-180h160v-160H180v160Zm440 0h160v-160H620v160Z\"/>\n",
              "  </svg>\n",
              "    </button>\n",
              "\n",
              "  <style>\n",
              "    .colab-df-container {\n",
              "      display:flex;\n",
              "      gap: 12px;\n",
              "    }\n",
              "\n",
              "    .colab-df-convert {\n",
              "      background-color: #E8F0FE;\n",
              "      border: none;\n",
              "      border-radius: 50%;\n",
              "      cursor: pointer;\n",
              "      display: none;\n",
              "      fill: #1967D2;\n",
              "      height: 32px;\n",
              "      padding: 0 0 0 0;\n",
              "      width: 32px;\n",
              "    }\n",
              "\n",
              "    .colab-df-convert:hover {\n",
              "      background-color: #E2EBFA;\n",
              "      box-shadow: 0px 1px 2px rgba(60, 64, 67, 0.3), 0px 1px 3px 1px rgba(60, 64, 67, 0.15);\n",
              "      fill: #174EA6;\n",
              "    }\n",
              "\n",
              "    .colab-df-buttons div {\n",
              "      margin-bottom: 4px;\n",
              "    }\n",
              "\n",
              "    [theme=dark] .colab-df-convert {\n",
              "      background-color: #3B4455;\n",
              "      fill: #D2E3FC;\n",
              "    }\n",
              "\n",
              "    [theme=dark] .colab-df-convert:hover {\n",
              "      background-color: #434B5C;\n",
              "      box-shadow: 0px 1px 3px 1px rgba(0, 0, 0, 0.15);\n",
              "      filter: drop-shadow(0px 1px 2px rgba(0, 0, 0, 0.3));\n",
              "      fill: #FFFFFF;\n",
              "    }\n",
              "  </style>\n",
              "\n",
              "    <script>\n",
              "      const buttonEl =\n",
              "        document.querySelector('#df-d162bee4-d01d-449d-be7c-25ec9be360df button.colab-df-convert');\n",
              "      buttonEl.style.display =\n",
              "        google.colab.kernel.accessAllowed ? 'block' : 'none';\n",
              "\n",
              "      async function convertToInteractive(key) {\n",
              "        const element = document.querySelector('#df-d162bee4-d01d-449d-be7c-25ec9be360df');\n",
              "        const dataTable =\n",
              "          await google.colab.kernel.invokeFunction('convertToInteractive',\n",
              "                                                    [key], {});\n",
              "        if (!dataTable) return;\n",
              "\n",
              "        const docLinkHtml = 'Like what you see? Visit the ' +\n",
              "          '<a target=\"_blank\" href=https://colab.research.google.com/notebooks/data_table.ipynb>data table notebook</a>'\n",
              "          + ' to learn more about interactive tables.';\n",
              "        element.innerHTML = '';\n",
              "        dataTable['output_type'] = 'display_data';\n",
              "        await google.colab.output.renderOutput(dataTable, element);\n",
              "        const docLink = document.createElement('div');\n",
              "        docLink.innerHTML = docLinkHtml;\n",
              "        element.appendChild(docLink);\n",
              "      }\n",
              "    </script>\n",
              "  </div>\n",
              "\n",
              "\n",
              "<div id=\"df-316b43bd-36f2-483f-905c-c426b598768d\">\n",
              "  <button class=\"colab-df-quickchart\" onclick=\"quickchart('df-316b43bd-36f2-483f-905c-c426b598768d')\"\n",
              "            title=\"Suggest charts\"\n",
              "            style=\"display:none;\">\n",
              "\n",
              "<svg xmlns=\"http://www.w3.org/2000/svg\" height=\"24px\"viewBox=\"0 0 24 24\"\n",
              "     width=\"24px\">\n",
              "    <g>\n",
              "        <path d=\"M19 3H5c-1.1 0-2 .9-2 2v14c0 1.1.9 2 2 2h14c1.1 0 2-.9 2-2V5c0-1.1-.9-2-2-2zM9 17H7v-7h2v7zm4 0h-2V7h2v10zm4 0h-2v-4h2v4z\"/>\n",
              "    </g>\n",
              "</svg>\n",
              "  </button>\n",
              "\n",
              "<style>\n",
              "  .colab-df-quickchart {\n",
              "      --bg-color: #E8F0FE;\n",
              "      --fill-color: #1967D2;\n",
              "      --hover-bg-color: #E2EBFA;\n",
              "      --hover-fill-color: #174EA6;\n",
              "      --disabled-fill-color: #AAA;\n",
              "      --disabled-bg-color: #DDD;\n",
              "  }\n",
              "\n",
              "  [theme=dark] .colab-df-quickchart {\n",
              "      --bg-color: #3B4455;\n",
              "      --fill-color: #D2E3FC;\n",
              "      --hover-bg-color: #434B5C;\n",
              "      --hover-fill-color: #FFFFFF;\n",
              "      --disabled-bg-color: #3B4455;\n",
              "      --disabled-fill-color: #666;\n",
              "  }\n",
              "\n",
              "  .colab-df-quickchart {\n",
              "    background-color: var(--bg-color);\n",
              "    border: none;\n",
              "    border-radius: 50%;\n",
              "    cursor: pointer;\n",
              "    display: none;\n",
              "    fill: var(--fill-color);\n",
              "    height: 32px;\n",
              "    padding: 0;\n",
              "    width: 32px;\n",
              "  }\n",
              "\n",
              "  .colab-df-quickchart:hover {\n",
              "    background-color: var(--hover-bg-color);\n",
              "    box-shadow: 0 1px 2px rgba(60, 64, 67, 0.3), 0 1px 3px 1px rgba(60, 64, 67, 0.15);\n",
              "    fill: var(--button-hover-fill-color);\n",
              "  }\n",
              "\n",
              "  .colab-df-quickchart-complete:disabled,\n",
              "  .colab-df-quickchart-complete:disabled:hover {\n",
              "    background-color: var(--disabled-bg-color);\n",
              "    fill: var(--disabled-fill-color);\n",
              "    box-shadow: none;\n",
              "  }\n",
              "\n",
              "  .colab-df-spinner {\n",
              "    border: 2px solid var(--fill-color);\n",
              "    border-color: transparent;\n",
              "    border-bottom-color: var(--fill-color);\n",
              "    animation:\n",
              "      spin 1s steps(1) infinite;\n",
              "  }\n",
              "\n",
              "  @keyframes spin {\n",
              "    0% {\n",
              "      border-color: transparent;\n",
              "      border-bottom-color: var(--fill-color);\n",
              "      border-left-color: var(--fill-color);\n",
              "    }\n",
              "    20% {\n",
              "      border-color: transparent;\n",
              "      border-left-color: var(--fill-color);\n",
              "      border-top-color: var(--fill-color);\n",
              "    }\n",
              "    30% {\n",
              "      border-color: transparent;\n",
              "      border-left-color: var(--fill-color);\n",
              "      border-top-color: var(--fill-color);\n",
              "      border-right-color: var(--fill-color);\n",
              "    }\n",
              "    40% {\n",
              "      border-color: transparent;\n",
              "      border-right-color: var(--fill-color);\n",
              "      border-top-color: var(--fill-color);\n",
              "    }\n",
              "    60% {\n",
              "      border-color: transparent;\n",
              "      border-right-color: var(--fill-color);\n",
              "    }\n",
              "    80% {\n",
              "      border-color: transparent;\n",
              "      border-right-color: var(--fill-color);\n",
              "      border-bottom-color: var(--fill-color);\n",
              "    }\n",
              "    90% {\n",
              "      border-color: transparent;\n",
              "      border-bottom-color: var(--fill-color);\n",
              "    }\n",
              "  }\n",
              "</style>\n",
              "\n",
              "  <script>\n",
              "    async function quickchart(key) {\n",
              "      const quickchartButtonEl =\n",
              "        document.querySelector('#' + key + ' button');\n",
              "      quickchartButtonEl.disabled = true;  // To prevent multiple clicks.\n",
              "      quickchartButtonEl.classList.add('colab-df-spinner');\n",
              "      try {\n",
              "        const charts = await google.colab.kernel.invokeFunction(\n",
              "            'suggestCharts', [key], {});\n",
              "      } catch (error) {\n",
              "        console.error('Error during call to suggestCharts:', error);\n",
              "      }\n",
              "      quickchartButtonEl.classList.remove('colab-df-spinner');\n",
              "      quickchartButtonEl.classList.add('colab-df-quickchart-complete');\n",
              "    }\n",
              "    (() => {\n",
              "      let quickchartButtonEl =\n",
              "        document.querySelector('#df-316b43bd-36f2-483f-905c-c426b598768d button');\n",
              "      quickchartButtonEl.style.display =\n",
              "        google.colab.kernel.accessAllowed ? 'block' : 'none';\n",
              "    })();\n",
              "  </script>\n",
              "</div>\n",
              "\n",
              "    </div>\n",
              "  </div>\n"
            ]
          },
          "metadata": {},
          "execution_count": 21
        },
        {
          "output_type": "stream",
          "name": "stdout",
          "text": [
            "Warning: Total number of columns (2013) exceeds max_columns (20) limiting to first (20) columns.\n"
          ]
        }
      ],
      "source": [
        "#read data\n",
        "mosaiks_ipm_unidos = pd.read_csv('mosaiks_ipm_unidos.csv')\n",
        "mosaiks_ipm_unidos.head()\n",
        "\n"
      ]
    },
    {
      "cell_type": "code",
      "source": [],
      "metadata": {
        "id": "tuC2omPScS26"
      },
      "id": "tuC2omPScS26",
      "execution_count": null,
      "outputs": []
    },
    {
      "cell_type": "code",
      "source": [
        "data.shape\n",
        "print(data[:, 1:9640].shape)\n",
        "print(data[:, 2011].shape)"
      ],
      "metadata": {
        "colab": {
          "base_uri": "https://localhost:8080/"
        },
        "id": "m2AMzGMRcC-_",
        "outputId": "0e4e097d-95f3-4f0d-e80b-3dc3a21cf6e4"
      },
      "id": "m2AMzGMRcC-_",
      "execution_count": 33,
      "outputs": [
        {
          "output_type": "stream",
          "name": "stdout",
          "text": [
            "(9641, 2012)\n",
            "(9641,)\n"
          ]
        }
      ]
    },
    {
      "cell_type": "markdown",
      "id": "fa5354e3",
      "metadata": {
        "id": "fa5354e3"
      },
      "source": [
        "### Run Machine learning"
      ]
    },
    {
      "cell_type": "code",
      "execution_count": 37,
      "id": "5b109853",
      "metadata": {
        "id": "5b109853"
      },
      "outputs": [],
      "source": [
        "#assign variables\n",
        "data = mosaiks_ipm_unidos.values\n",
        "X, y = data[:, 1:2012], data[:,2011]\n",
        "\n",
        "# Split data into training and test sets (random state for reproducability)\n",
        "X_train, X_test, y_train, y_test = train_test_split(X, y, train_size=0.7, random_state=1)\n"
      ]
    },
    {
      "cell_type": "code",
      "source": [],
      "metadata": {
        "id": "oYw07Lfvbg5f"
      },
      "id": "oYw07Lfvbg5f",
      "execution_count": null,
      "outputs": []
    },
    {
      "cell_type": "code",
      "execution_count": null,
      "id": "2fcdf829",
      "metadata": {
        "id": "2fcdf829"
      },
      "outputs": [],
      "source": []
    },
    {
      "cell_type": "code",
      "source": [
        "from sklearn.model_selection import GridSearchCV\n",
        "from sklearn.ensemble import RandomForestClassifier"
      ],
      "metadata": {
        "id": "uqUsLdyOvx4K"
      },
      "id": "uqUsLdyOvx4K",
      "execution_count": 41,
      "outputs": []
    },
    {
      "cell_type": "code",
      "source": [
        "\n",
        "param_grid = {'n_estimators': [10, 50, 100, 200],\n",
        "              'max_depth': [None, 10, 20, 30]}"
      ],
      "metadata": {
        "id": "V3NQ2bb_v53Y"
      },
      "id": "V3NQ2bb_v53Y",
      "execution_count": 42,
      "outputs": []
    },
    {
      "cell_type": "code",
      "source": [
        "model = RandomForestClassifier()"
      ],
      "metadata": {
        "id": "k89N-PXuv-UV"
      },
      "id": "k89N-PXuv-UV",
      "execution_count": 43,
      "outputs": []
    },
    {
      "cell_type": "code",
      "source": [
        "grid_search = GridSearchCV(model, param_grid, cv=5, error_score='raise')"
      ],
      "metadata": {
        "id": "zCnb-3QKwEjB"
      },
      "id": "zCnb-3QKwEjB",
      "execution_count": 44,
      "outputs": []
    },
    {
      "cell_type": "code",
      "source": [
        "try:\n",
        "    grid_search.fit(X, y)\n",
        "except Exception as e:\n",
        "    print(f\"An error occurred during training: {str(e)}\")"
      ],
      "metadata": {
        "colab": {
          "base_uri": "https://localhost:8080/"
        },
        "id": "sWQRsFw_wKBG",
        "outputId": "804513e7-4788-4b42-b21c-71e0d718182a"
      },
      "id": "sWQRsFw_wKBG",
      "execution_count": 45,
      "outputs": [
        {
          "output_type": "stream",
          "name": "stdout",
          "text": [
            "An error occurred during training: could not convert string to float: 'Vulnerabilidad baja'\n"
          ]
        }
      ]
    },
    {
      "cell_type": "code",
      "source": [
        "from sklearn.preprocessing import LabelEncoder\n",
        "\n",
        "# Assuming your target variable y is a pandas Series\n",
        "label_encoder = LabelEncoder()\n",
        "y_encoded = label_encoder.fit_transform(y)\n",
        "\n",
        "# Now, use y_encoded instead of y in your model training\n",
        "# grid_search.fit(X, y_encoded)\n"
      ],
      "metadata": {
        "id": "Ivhr9kBn9_im"
      },
      "id": "Ivhr9kBn9_im",
      "execution_count": 51,
      "outputs": []
    },
    {
      "cell_type": "code",
      "source": [
        "grid_search = GridSearchCV(model, param_grid, cv=5, error_score='raise', verbose=3)\n",
        "try:\n",
        "    grid_search.fit(X, y)\n",
        "except Exception as e:\n",
        "    print(f\"An error occurred during training: {str(e)}\")\n",
        "    # You can print more details or investigate the error here"
      ],
      "metadata": {
        "id": "vYEecUEGFvkR"
      },
      "id": "vYEecUEGFvkR",
      "execution_count": null,
      "outputs": []
    },
    {
      "cell_type": "code",
      "source": [
        "from sklearn.preprocessing import OneHotEncoder\n",
        "import pandas as pd\n",
        "\n",
        "# Assuming your target variable y is a pandas Series\n",
        "y_encoded = pd.get_dummies(y)\n",
        "\n",
        "# Now, use y_encoded instead of y in your model training\n",
        "# grid_search.fit(X, y_encoded)\n"
      ],
      "metadata": {
        "colab": {
          "base_uri": "https://localhost:8080/"
        },
        "id": "gvzEIGGU-GS9",
        "outputId": "e66538e5-4793-473b-c5d8-b0ae1b53c442"
      },
      "id": "gvzEIGGU-GS9",
      "execution_count": 52,
      "outputs": [
        {
          "output_type": "stream",
          "name": "stderr",
          "text": [
            "<ipython-input-52-8a43a66e5032>:5: FutureWarning: In a future version, the Index constructor will not infer numeric dtypes when passed object-dtype sequences (matching Series behavior)\n",
            "  y_encoded = pd.get_dummies(y)\n"
          ]
        }
      ]
    },
    {
      "cell_type": "code",
      "source": [
        "from sklearn.model_selection import GridSearchCV\n",
        "from sklearn.ensemble import RandomForestClassifier\n",
        "from sklearn.preprocessing import LabelEncoder\n",
        "import pandas as pd\n",
        "\n",
        "# Load your dataset\n",
        "# df = pd.read_csv(\"your_dataset.csv\")\n",
        "\n",
        "# Assuming 'Vulnerabilidad' is the target variable\n",
        "target_column = 'Vulnerabilidad'\n",
        "\n",
        "# Check the column names in your DataFrame\n",
        "print(mosaiks_ipm_unidos.columns)\n",
        "\n",
        "# Supongamos que 'ipm' es la variable objetivo\n",
        "y = mosaiks_ipm_unidos['ipm']\n",
        "X = mosaiks_ipm_unidos.drop('ipm', axis=1)\n",
        "# Codificación de variables categóricas\n",
        "X_encoded = pd.get_dummies(X)\n",
        "from sklearn.model_selection import train_test_split\n",
        "\n",
        "X_train, X_test, y_train, y_test = train_test_split(X_encoded, y, test_size=0.2, random_state=42)\n",
        "from sklearn.ensemble import RandomForestRegressor\n",
        "\n",
        "model = RandomForestRegressor()\n",
        "\n",
        "# Entrenamiento del modelo\n",
        "model.fit(X_train, y_train)\n",
        "\n",
        "# Predicciones en el conjunto de prueba\n",
        "predictions = model.predict(X_test)\n",
        "\n"
      ],
      "metadata": {
        "colab": {
          "base_uri": "https://localhost:8080/"
        },
        "id": "6ZTqvJDzBN3W",
        "outputId": "2f50f5ca-b606-4139-e4c5-489d6517b28a"
      },
      "id": "6ZTqvJDzBN3W",
      "execution_count": 60,
      "outputs": [
        {
          "output_type": "stream",
          "name": "stdout",
          "text": [
            "Index(['lon', 'lat', 'X_0', 'X_1', 'X_2', 'X_3', 'X_4', 'X_5', 'X_6', 'X_7',\n",
            "       ...\n",
            "       'CATEGORIA', 'LABEL', 'ipm', 'embarazo_a', 'n', 'distance', 'feature_x',\n",
            "       'feature_y', 'nearest_x', 'nearest_y'],\n",
            "      dtype='object', length=2013)\n"
          ]
        }
      ]
    },
    {
      "cell_type": "code",
      "source": [
        "from sklearn.ensemble import RandomForestRegressor\n",
        "\n",
        "# Assuming 'ipm' is the target variable\n",
        "y = mosaiks_ipm_unidos['ipm']\n",
        "X = mosaiks_ipm_unidos.drop('ipm', axis=1)\n",
        "\n",
        "# Encode categorical variables\n",
        "X_encoded = pd.get_dummies(X)\n",
        "\n",
        "# Split the data into training and testing sets\n",
        "X_train, X_test, y_train, y_test = train_test_split(X_encoded, y, test_size=0.2, random_state=42)\n",
        "\n",
        "# Create and train the Random Forest model\n",
        "random_forest_model = RandomForestRegressor()\n",
        "random_forest_model.fit(X_train, y_train)\n",
        "\n",
        "# Predict using the trained model\n",
        "rf_y_pred = random_forest_model.predict(X_test)\n",
        "\n",
        "# Get R^2 and MSE from true and predicted values for Random Forest\n",
        "rf_r2 = r2_score(y_test, rf_y_pred)\n",
        "rf_mse = mean_squared_error(y_test, rf_y_pred)\n",
        "\n",
        "print(' R2: %f' % rf_r2)\n",
        "print(' MSE: %f' % rf_mse)\n"
      ],
      "metadata": {
        "colab": {
          "base_uri": "https://localhost:8080/"
        },
        "id": "x4m1jmzcFKIC",
        "outputId": "14d0c6e3-dce3-43fa-d88e-678327492e2a"
      },
      "id": "x4m1jmzcFKIC",
      "execution_count": 62,
      "outputs": [
        {
          "output_type": "stream",
          "name": "stdout",
          "text": [
            "Random Forest R2: 0.730885\n",
            "Random Forest MSE: 87.169195\n"
          ]
        }
      ]
    },
    {
      "cell_type": "code",
      "source": [
        "\n",
        "# define model evaluation method (k-fold crosss validation model)\n",
        "cv = RepeatedKFold(n_splits=5, n_repeats=5, random_state=111)\n",
        "\n",
        "# define model\n",
        "model = RidgeCV(alphas=[100, 10, 1, 0.1, 0.001, 0.0005], cv=cv)\n",
        "\n",
        "# fit model\n",
        "model.fit(X_train, y_train)\n",
        "\n"
      ],
      "metadata": {
        "id": "2SPOkBjzwPiD"
      },
      "id": "2SPOkBjzwPiD",
      "execution_count": null,
      "outputs": []
    },
    {
      "cell_type": "code",
      "execution_count": null,
      "id": "43e71928",
      "metadata": {
        "id": "43e71928"
      },
      "outputs": [],
      "source": [
        "\n",
        "# summarize chosen configuration\n",
        "print('alpha: %f' % model.alpha_)\n",
        "\n",
        "# predict model\n",
        "ridge_y_pred = model.predict(X_test)\n",
        "\n",
        "# get R^2 from true and predicted values\n",
        "print('r2: %f' % r2_score(y_test,ridge_y_pred))\n",
        "print('mse: %f' % mean_squared_error(y_test, ridge_y_pred))\n",
        "\n",
        "\n",
        "#alpha: 0.001000\n",
        "#r2: 0.501009 #only mosaiks\n",
        "#mse: 22622720.750653\n",
        "\n",
        "\n",
        "#alpha: 0.001000\n",
        "#r2: 0.686244 #mosiaks + nl\n",
        "#mse: 0.256813"
      ]
    },
    {
      "cell_type": "code",
      "source": [],
      "metadata": {
        "id": "lA-jmLMnFFs2"
      },
      "id": "lA-jmLMnFFs2",
      "execution_count": null,
      "outputs": []
    },
    {
      "cell_type": "code",
      "source": [],
      "metadata": {
        "id": "zAd7kNv7vvM9"
      },
      "id": "zAd7kNv7vvM9",
      "execution_count": null,
      "outputs": []
    }
  ],
  "metadata": {
    "kernelspec": {
      "display_name": "geo_env",
      "language": "python",
      "name": "geo_env"
    },
    "language_info": {
      "codemirror_mode": {
        "name": "ipython",
        "version": 3
      },
      "file_extension": ".py",
      "mimetype": "text/x-python",
      "name": "python",
      "nbconvert_exporter": "python",
      "pygments_lexer": "ipython3",
      "version": "3.11.3"
    },
    "colab": {
      "provenance": [],
      "include_colab_link": true
    }
  },
  "nbformat": 4,
  "nbformat_minor": 5
}