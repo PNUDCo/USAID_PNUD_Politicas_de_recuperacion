{
  "nbformat": 4,
  "nbformat_minor": 0,
  "metadata": {
    "colab": {
      "provenance": [],
      "authorship_tag": "ABX9TyMGRTdKti01Fx6LS/57XRP6",
      "include_colab_link": true
    },
    "kernelspec": {
      "name": "python3",
      "display_name": "Python 3"
    },
    "language_info": {
      "name": "python"
    }
  },
  "cells": [
    {
      "cell_type": "markdown",
      "metadata": {
        "id": "view-in-github",
        "colab_type": "text"
      },
      "source": [
        "<a href=\"https://colab.research.google.com/github/PNUDCo/USAID_PNUD_Politicas_de_recuperacion/blob/main/Untitled2.ipynb\" target=\"_parent\"><img src=\"https://colab.research.google.com/assets/colab-badge.svg\" alt=\"Open In Colab\"/></a>"
      ]
    },
    {
      "cell_type": "code",
      "execution_count": null,
      "metadata": {
        "id": "j9kE6emLj99C"
      },
      "outputs": [],
      "source": [
        "# Importar librerías\n",
        "import os\n",
        "import numpy as np\n",
        "import pandas as pd\n",
        "from sklearn.model_selection import train_test_split\n",
        "from sklearn.metrics import mean_squared_error, r2_score\n",
        "import xgboost as xgb\n",
        "\n",
        "# Leer el archivo CSV\n",
        "mosaiks_ipm_unidos = pd.read_csv('mosaiks_ipm_unidos.csv')\n",
        "\n",
        "# Preprocesamiento de los datos\n",
        "y = mosaiks_ipm_unidos['ipm']\n",
        "X = mosaiks_ipm_unidos.drop('ipm', axis=1)\n",
        "X_encoded = pd.get_dummies(X)\n",
        "\n",
        "# Dividir los datos en conjuntos de entrenamiento y prueba\n",
        "X_train, X_test, y_train, y_test = train_test_split(X_encoded, y, test_size=0.2, random_state=42)\n",
        "\n",
        "# Crear y entrenar el modelo XGBoost\n",
        "xgb_model = xgb.XGBRegressor()\n",
        "xgb_model.fit(X_train, y_train)\n",
        "\n",
        "# Predicciones en el conjunto de prueba\n",
        "xgb_y_pred = xgb_model.predict(X_test)\n",
        "\n",
        "# Obtener R^2 y MSE a partir de los valores reales y predichos para XGBoost\n",
        "xgb_r2 = r2_score(y_test, xgb_y_pred)\n",
        "xgb_mse = mean_squared_error(y_test, xgb_y_pred)\n",
        "\n",
        "print(' XGBoost R2: %f' % xgb_r2)\n",
        "print(' XGBoost MSE: %f' % xgb_mse)"
      ]
    }
  ]
}